{
 "cells": [
  {
   "cell_type": "code",
   "execution_count": 57,
   "metadata": {},
   "outputs": [],
   "source": [
    "import pandas as pd\n",
    "\n",
    "pd.options.mode.chained_assignment = None"
   ]
  },
  {
   "cell_type": "code",
   "execution_count": 58,
   "metadata": {},
   "outputs": [],
   "source": [
    "from blocks.get_raw_df import get_raw_df"
   ]
  },
  {
   "cell_type": "code",
   "execution_count": 93,
   "metadata": {},
   "outputs": [],
   "source": [
    "import numpy as np"
   ]
  },
  {
   "cell_type": "code",
   "execution_count": null,
   "metadata": {},
   "outputs": [],
   "source": [
    "df = get_raw_df()"
   ]
  },
  {
   "cell_type": "code",
   "execution_count": 94,
   "metadata": {},
   "outputs": [],
   "source": [
    "site_links_end = df[df.date=='2024-10-09'].site_link.unique()\n",
    "site_links_start = df[df.date=='2019-01-31'].site_link.unique()\n",
    "site_links = np.intersect1d(site_links_start, site_links_end)\n",
    "raw_df = df[df.site_link.isin(site_links)]\n",
    "\n",
    "raw_df['median_price'] = raw_df.groupby(['date', 'category_id'])['price_new'].transform(lambda x: x.median())\n",
    "raw_df['price_ratio'] = raw_df.price_new / raw_df.median_price\n",
    "raw_df = raw_df.sort_values('date').reset_index(drop=True)\n",
    "raw_df['is_price_change'] = raw_df.groupby('site_link')['price_new'].transform(lambda x: (x.pct_change()!=0)&(x.pct_change().notna()))\n",
    "\n",
    "raw_df = raw_df[['date', 'price_new', 'price_old', \n",
    "                 'site_link', 'median_price', 'price_ratio', 'is_price_change']]"
   ]
  },
  {
   "cell_type": "code",
   "execution_count": 79,
   "metadata": {},
   "outputs": [],
   "source": [
    "raw_df = raw_df.set_index('date')"
   ]
  },
  {
   "cell_type": "code",
   "execution_count": 69,
   "metadata": {},
   "outputs": [],
   "source": [
    "raw_df.price_old = raw_df.price_old.astype(float)"
   ]
  },
  {
   "cell_type": "code",
   "execution_count": 72,
   "metadata": {},
   "outputs": [],
   "source": [
    "raw_df.loc[raw_df.price_old!=-1, 'price_new'] = None\n",
    "raw_df['price_new'] = raw_df.groupby('site_link')['price_new'].ffill()"
   ]
  },
  {
   "cell_type": "code",
   "execution_count": 85,
   "metadata": {},
   "outputs": [],
   "source": [
    "cond1 = raw_df.site_link.str.startswith('https://www.vprok.ru/product/ryazanochka-ryaza')"
   ]
  }
 ],
 "metadata": {
  "kernelspec": {
   "display_name": "venv",
   "language": "python",
   "name": "python3"
  },
  "language_info": {
   "codemirror_mode": {
    "name": "ipython",
    "version": 3
   },
   "file_extension": ".py",
   "mimetype": "text/x-python",
   "name": "python",
   "nbconvert_exporter": "python",
   "pygments_lexer": "ipython3",
   "version": "3.12.7"
  }
 },
 "nbformat": 4,
 "nbformat_minor": 2
}
