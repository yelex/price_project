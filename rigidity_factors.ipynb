{
 "cells": [
  {
   "cell_type": "code",
   "execution_count": 1,
   "metadata": {},
   "outputs": [],
   "source": [
    "import pandas as pd\n",
    "import matplotlib.pyplot as plt\n",
    "\n",
    "pd.options.mode.chained_assignment = None"
   ]
  },
  {
   "cell_type": "code",
   "execution_count": 2,
   "metadata": {},
   "outputs": [
    {
     "name": "stdout",
     "output_type": "stream",
     "text": [
      "2024-10-13 23:28:29,413 INFO sqlalchemy.engine.Engine SELECT DATABASE()\n",
      "2024-10-13 23:28:29,413 INFO sqlalchemy.engine.Engine [raw sql] {}\n",
      "2024-10-13 23:28:29,429 INFO sqlalchemy.engine.Engine SELECT @@sql_mode\n",
      "2024-10-13 23:28:29,445 INFO sqlalchemy.engine.Engine [raw sql] {}\n",
      "2024-10-13 23:28:29,455 INFO sqlalchemy.engine.Engine SELECT @@lower_case_table_names\n",
      "2024-10-13 23:28:29,455 INFO sqlalchemy.engine.Engine [raw sql] {}\n"
     ]
    }
   ],
   "source": [
    "from blocks.get_raw_df import get_raw_df"
   ]
  },
  {
   "cell_type": "code",
   "execution_count": 3,
   "metadata": {},
   "outputs": [],
   "source": [
    "import numpy as np"
   ]
  },
  {
   "cell_type": "code",
   "execution_count": 19,
   "metadata": {},
   "outputs": [
    {
     "name": "stdout",
     "output_type": "stream",
     "text": [
      "2024-10-13 23:35:13,294 INFO sqlalchemy.engine.Engine select * from ane_base.parser_app_pricesraw\n",
      "2024-10-13 23:35:13,296 INFO sqlalchemy.engine.Engine [raw sql] {}\n"
     ]
    }
   ],
   "source": [
    "df = get_raw_df()"
   ]
  },
  {
   "cell_type": "code",
   "execution_count": 54,
   "metadata": {},
   "outputs": [],
   "source": [
    "site_links_end = df[df.date=='2024-10-09'].site_link.unique()\n",
    "site_links_start = df[df.date=='2019-01-31'].site_link.unique()\n",
    "site_links = np.intersect1d(site_links_start, site_links_end)\n",
    "raw_df = df[df.site_link.isin(site_links)]\n",
    "\n",
    "\n",
    "raw_df = raw_df.sort_values('date').reset_index(drop=True)"
   ]
  },
  {
   "cell_type": "code",
   "execution_count": 55,
   "metadata": {},
   "outputs": [],
   "source": [
    "# raw_df = raw_df[raw_df.date.dt.weekday==6]"
   ]
  },
  {
   "cell_type": "code",
   "execution_count": 56,
   "metadata": {},
   "outputs": [],
   "source": [
    "raw_df = raw_df.set_index('date')"
   ]
  },
  {
   "cell_type": "code",
   "execution_count": 57,
   "metadata": {},
   "outputs": [],
   "source": [
    "raw_df.price_old = raw_df.price_old.astype(float)"
   ]
  },
  {
   "cell_type": "code",
   "execution_count": 58,
   "metadata": {},
   "outputs": [],
   "source": [
    "raw_df.loc[raw_df.price_old!=-1, 'price_new'] = None\n",
    "raw_df['price_new'] = raw_df.groupby('site_link')['price_new'].ffill()\n",
    "raw_df['median_price'] = raw_df.groupby(['date', 'category_id'])['price_new'].transform(lambda x: x.median())\n",
    "raw_df['cnt_products'] = raw_df.groupby(['date', 'category_id'])['site_link'].transform(lambda x: x.nunique())\n",
    "raw_df['price_ratio'] = raw_df.price_new / raw_df.median_price\n",
    "raw_df['is_price_change'] = raw_df.groupby('site_link')['price_new'].transform(lambda x: (x.pct_change()!=0)&(x.pct_change().notna()))\n",
    "\n",
    "raw_df = raw_df[['price_new', 'price_old', 'is_price_change',\n",
    "                 'site_link', 'category_id', 'cnt_products', 'median_price', 'price_ratio']]"
   ]
  },
  {
   "cell_type": "code",
   "execution_count": 59,
   "metadata": {},
   "outputs": [],
   "source": [
    "raw_df['is_future_change'] = raw_df.groupby('site_link')['is_price_change'].transform(lambda x: x.shift(-1))"
   ]
  },
  {
   "cell_type": "code",
   "execution_count": 60,
   "metadata": {},
   "outputs": [
    {
     "name": "stderr",
     "output_type": "stream",
     "text": [
      "C:\\Users\\user\\AppData\\Local\\Temp\\ipykernel_12292\\1253377458.py:6: RuntimeWarning: invalid value encountered in scalar divide\n",
      "  prob = sub_df.is_future_change.sum()/sub_df.is_future_change.count()\n"
     ]
    }
   ],
   "source": [
    "probs = dict()\n",
    "for i in range(0, 200, 1):\n",
    "    upper_bound = i/100\n",
    "    lower_bound = i/100-0.01\n",
    "    sub_df = raw_df[(raw_df.price_ratio>=lower_bound)&(raw_df.price_ratio<=upper_bound)]\n",
    "    prob = sub_df.is_future_change.sum()/sub_df.is_future_change.count()\n",
    "\n",
    "    probs[i/100-1] = prob"
   ]
  },
  {
   "cell_type": "code",
   "execution_count": 61,
   "metadata": {},
   "outputs": [],
   "source": [
    "bins = list(map(lambda x: x/100, list(range(0,200,1))))\n",
    "# df.plot(kind='bar')"
   ]
  },
  {
   "cell_type": "code",
   "execution_count": 62,
   "metadata": {},
   "outputs": [
    {
     "name": "stderr",
     "output_type": "stream",
     "text": [
      "C:\\Users\\user\\AppData\\Local\\Temp\\ipykernel_12292\\3961533533.py:1: FutureWarning: The default of observed=False is deprecated and will be changed to True in a future version of pandas. Pass observed=False to retain current behavior or observed=True to adopt the future default and silence this warning.\n",
      "  cng_df = raw_df.groupby(pd.cut(raw_df['price_ratio'], bins=bins))['is_future_change'].agg([lambda x: x.sum()/x.count() if x.sum()!=0 else 0, lambda x: x.count()])\n"
     ]
    }
   ],
   "source": [
    "cng_df = raw_df.groupby(pd.cut(raw_df['price_ratio'], bins=bins))['is_future_change'].agg([lambda x: x.sum()/x.count() if x.sum()!=0 else 0, lambda x: x.count()])\n",
    "cng_df.columns = ['prob', 'cnt']"
   ]
  },
  {
   "cell_type": "code",
   "execution_count": 74,
   "metadata": {},
   "outputs": [],
   "source": [
    "cng_df['prob'].index = list(map(lambda x: x/100, list(range(0, 199))))"
   ]
  },
  {
   "cell_type": "code",
   "execution_count": 80,
   "metadata": {},
   "outputs": [],
   "source": [
    "cng_df['prob'].to_excel('prob.xlsx')#.plot(kind='bar')"
   ]
  },
  {
   "cell_type": "code",
   "execution_count": 75,
   "metadata": {},
   "outputs": [
    {
     "data": {
      "text/plain": [
       "<BarContainer object of 191 artists>"
      ]
     },
     "execution_count": 75,
     "metadata": {},
     "output_type": "execute_result"
    },
    {
     "data": {
      "image/png": "[encoded data removed]",
      "text/plain": [
       "<Figure size 640x480 with 1 Axes>"
      ]
     },
     "metadata": {},
     "output_type": "display_data"
    }
   ],
   "source": [
    "plt.bar(x=list(map(lambda x: str(x), cng_df.iloc[4:-4]['prob'].index)), height=cng_df['prob'].iloc[4:-4].values)"
   ]
  },
  {
   "cell_type": "code",
   "execution_count": 114,
   "metadata": {},
   "outputs": [],
   "source": [
    "categories = pd.read_csv(r'data\\categories_types.csv', sep='\\t', encoding = \"cp1251\", index_col=0, decimal=',')"
   ]
  },
  {
   "cell_type": "code",
   "execution_count": 115,
   "metadata": {},
   "outputs": [],
   "source": [
    "categories = categories.iloc[:,:-1]"
   ]
  },
  {
   "cell_type": "code",
   "execution_count": 117,
   "metadata": {},
   "outputs": [],
   "source": [
    "raw_df = raw_df.merge(categories, left_on='category_id', right_index=True)"
   ]
  },
  {
   "cell_type": "code",
   "execution_count": 119,
   "metadata": {},
   "outputs": [
    {
     "name": "stderr",
     "output_type": "stream",
     "text": [
      "C:\\Users\\user\\AppData\\Local\\Temp\\ipykernel_12292\\3491714684.py:1: FutureWarning: Setting an item of incompatible dtype is deprecated and will raise in a future error of pandas. Value '[0 0 0 ... 0 0 0]' has dtype incompatible with bool, please explicitly cast to a compatible dtype first.\n",
      "  raw_df.loc[:, 'is_price_change'] = raw_df.is_price_change.astype(int)\n"
     ]
    }
   ],
   "source": [
    "raw_df.loc[:, 'is_price_change'] = raw_df.is_price_change.astype(int)"
   ]
  },
  {
   "cell_type": "code",
   "execution_count": 120,
   "metadata": {},
   "outputs": [
    {
     "data": {
      "text/html": [
       "<div>\n",
       "<style scoped>\n",
       "    .dataframe tbody tr th:only-of-type {\n",
       "        vertical-align: middle;\n",
       "    }\n",
       "\n",
       "    .dataframe tbody tr th {\n",
       "        vertical-align: top;\n",
       "    }\n",
       "\n",
       "    .dataframe thead th {\n",
       "        text-align: right;\n",
       "    }\n",
       "</style>\n",
       "<table border=\"1\" class=\"dataframe\">\n",
       "  <thead>\n",
       "    <tr style=\"text-align: right;\">\n",
       "      <th></th>\n",
       "      <th>price_new</th>\n",
       "      <th>price_old</th>\n",
       "      <th>is_price_change</th>\n",
       "      <th>site_link</th>\n",
       "      <th>category_id</th>\n",
       "      <th>cnt_products</th>\n",
       "      <th>median_price</th>\n",
       "      <th>price_ratio</th>\n",
       "      <th>is_future_change</th>\n",
       "      <th>cat_title</th>\n",
       "      <th>type_1</th>\n",
       "      <th>type_2</th>\n",
       "      <th>type_3</th>\n",
       "    </tr>\n",
       "    <tr>\n",
       "      <th>date</th>\n",
       "      <th></th>\n",
       "      <th></th>\n",
       "      <th></th>\n",
       "      <th></th>\n",
       "      <th></th>\n",
       "      <th></th>\n",
       "      <th></th>\n",
       "      <th></th>\n",
       "      <th></th>\n",
       "      <th></th>\n",
       "      <th></th>\n",
       "      <th></th>\n",
       "      <th></th>\n",
       "    </tr>\n",
       "  </thead>\n",
       "  <tbody>\n",
       "    <tr>\n",
       "      <th>2019-01-31</th>\n",
       "      <td>72.9</td>\n",
       "      <td>-1.00</td>\n",
       "      <td>0</td>\n",
       "      <td>https://www.vprok.ru/product/domik-v-derevne-d...</td>\n",
       "      <td>10</td>\n",
       "      <td>5</td>\n",
       "      <td>115.0</td>\n",
       "      <td>0.633913</td>\n",
       "      <td>False</td>\n",
       "      <td>Молоко питьевое цельное пастеризованное 2,5-3,...</td>\n",
       "      <td>Молочные продукты и яйца</td>\n",
       "      <td>Продукты недлительного хранения</td>\n",
       "      <td>Необработанные продукты</td>\n",
       "    </tr>\n",
       "    <tr>\n",
       "      <th>2019-01-31</th>\n",
       "      <td>48.9</td>\n",
       "      <td>-1.00</td>\n",
       "      <td>0</td>\n",
       "      <td>https://www.vprok.ru/product/agroperspektiva-t...</td>\n",
       "      <td>15</td>\n",
       "      <td>3</td>\n",
       "      <td>60.9</td>\n",
       "      <td>0.802956</td>\n",
       "      <td>False</td>\n",
       "      <td>Сахар-песок</td>\n",
       "      <td>Сахар-песок</td>\n",
       "      <td>Продукты длительного хранения</td>\n",
       "      <td>Обработанные продукты</td>\n",
       "    </tr>\n",
       "    <tr>\n",
       "      <th>2019-01-31</th>\n",
       "      <td>69.9</td>\n",
       "      <td>-1.00</td>\n",
       "      <td>0</td>\n",
       "      <td>https://www.vprok.ru/product/ogurtsy-dlinnye-1...</td>\n",
       "      <td>26</td>\n",
       "      <td>4</td>\n",
       "      <td>159.0</td>\n",
       "      <td>0.439623</td>\n",
       "      <td>False</td>\n",
       "      <td>Огурцы свежие</td>\n",
       "      <td>Овощи</td>\n",
       "      <td>Продукты недлительного хранения</td>\n",
       "      <td>Необработанные продукты</td>\n",
       "    </tr>\n",
       "    <tr>\n",
       "      <th>2019-01-31</th>\n",
       "      <td>63.9</td>\n",
       "      <td>-1.00</td>\n",
       "      <td>0</td>\n",
       "      <td>https://www.vprok.ru/product/sarafanovo-sarafa...</td>\n",
       "      <td>10</td>\n",
       "      <td>5</td>\n",
       "      <td>115.0</td>\n",
       "      <td>0.555652</td>\n",
       "      <td>False</td>\n",
       "      <td>Молоко питьевое цельное пастеризованное 2,5-3,...</td>\n",
       "      <td>Молочные продукты и яйца</td>\n",
       "      <td>Продукты недлительного хранения</td>\n",
       "      <td>Необработанные продукты</td>\n",
       "    </tr>\n",
       "    <tr>\n",
       "      <th>2019-01-31</th>\n",
       "      <td>139.0</td>\n",
       "      <td>-1.00</td>\n",
       "      <td>0</td>\n",
       "      <td>https://www.vprok.ru/product/ogurtsy-fasovanny...</td>\n",
       "      <td>26</td>\n",
       "      <td>4</td>\n",
       "      <td>159.0</td>\n",
       "      <td>0.874214</td>\n",
       "      <td>False</td>\n",
       "      <td>Огурцы свежие</td>\n",
       "      <td>Овощи</td>\n",
       "      <td>Продукты недлительного хранения</td>\n",
       "      <td>Необработанные продукты</td>\n",
       "    </tr>\n",
       "    <tr>\n",
       "      <th>...</th>\n",
       "      <td>...</td>\n",
       "      <td>...</td>\n",
       "      <td>...</td>\n",
       "      <td>...</td>\n",
       "      <td>...</td>\n",
       "      <td>...</td>\n",
       "      <td>...</td>\n",
       "      <td>...</td>\n",
       "      <td>...</td>\n",
       "      <td>...</td>\n",
       "      <td>...</td>\n",
       "      <td>...</td>\n",
       "      <td>...</td>\n",
       "    </tr>\n",
       "    <tr>\n",
       "      <th>2024-10-13</th>\n",
       "      <td>94.9</td>\n",
       "      <td>94.90</td>\n",
       "      <td>0</td>\n",
       "      <td>https://www.vprok.ru/product/domik-v-derevne-s...</td>\n",
       "      <td>11</td>\n",
       "      <td>7</td>\n",
       "      <td>109.0</td>\n",
       "      <td>0.870642</td>\n",
       "      <td>NaN</td>\n",
       "      <td>Сметана</td>\n",
       "      <td>Молочные продукты и яйца</td>\n",
       "      <td>Продукты недлительного хранения</td>\n",
       "      <td>Обработанные продукты</td>\n",
       "    </tr>\n",
       "    <tr>\n",
       "      <th>2024-10-13</th>\n",
       "      <td>109.0</td>\n",
       "      <td>-1.00</td>\n",
       "      <td>0</td>\n",
       "      <td>https://www.vprok.ru/product/prostokvashino-pr...</td>\n",
       "      <td>11</td>\n",
       "      <td>7</td>\n",
       "      <td>109.0</td>\n",
       "      <td>1.000000</td>\n",
       "      <td>NaN</td>\n",
       "      <td>Сметана</td>\n",
       "      <td>Молочные продукты и яйца</td>\n",
       "      <td>Продукты недлительного хранения</td>\n",
       "      <td>Обработанные продукты</td>\n",
       "    </tr>\n",
       "    <tr>\n",
       "      <th>2024-10-13</th>\n",
       "      <td>89.9</td>\n",
       "      <td>-1.00</td>\n",
       "      <td>0</td>\n",
       "      <td>https://www.vprok.ru/product/rostagroeksport-r...</td>\n",
       "      <td>11</td>\n",
       "      <td>7</td>\n",
       "      <td>109.0</td>\n",
       "      <td>0.824771</td>\n",
       "      <td>NaN</td>\n",
       "      <td>Сметана</td>\n",
       "      <td>Молочные продукты и яйца</td>\n",
       "      <td>Продукты недлительного хранения</td>\n",
       "      <td>Обработанные продукты</td>\n",
       "    </tr>\n",
       "    <tr>\n",
       "      <th>2024-10-13</th>\n",
       "      <td>76.9</td>\n",
       "      <td>71.99</td>\n",
       "      <td>0</td>\n",
       "      <td>https://www.vprok.ru/product/pyshechka-pyshech...</td>\n",
       "      <td>16</td>\n",
       "      <td>7</td>\n",
       "      <td>81.9</td>\n",
       "      <td>0.938950</td>\n",
       "      <td>NaN</td>\n",
       "      <td>Мука пшеничная</td>\n",
       "      <td>Мучные изделия</td>\n",
       "      <td>Продукты длительного хранения</td>\n",
       "      <td>Обработанные продукты</td>\n",
       "    </tr>\n",
       "    <tr>\n",
       "      <th>2024-10-13</th>\n",
       "      <td>14.5</td>\n",
       "      <td>-1.00</td>\n",
       "      <td>0</td>\n",
       "      <td>https://www.vprok.ru/product/tender-sol-krupna...</td>\n",
       "      <td>32</td>\n",
       "      <td>10</td>\n",
       "      <td>69.5</td>\n",
       "      <td>0.208633</td>\n",
       "      <td>NaN</td>\n",
       "      <td>Соль поваренная пищевая</td>\n",
       "      <td>Чай и специи</td>\n",
       "      <td>Продукты длительного хранения</td>\n",
       "      <td>Обработанные продукты</td>\n",
       "    </tr>\n",
       "  </tbody>\n",
       "</table>\n",
       "<p>209197 rows × 13 columns</p>\n",
       "</div>"
      ],
      "text/plain": [
       "            price_new  price_old  is_price_change  \\\n",
       "date                                                \n",
       "2019-01-31       72.9      -1.00                0   \n",
       "2019-01-31       48.9      -1.00                0   \n",
       "2019-01-31       69.9      -1.00                0   \n",
       "2019-01-31       63.9      -1.00                0   \n",
       "2019-01-31      139.0      -1.00                0   \n",
       "...               ...        ...              ...   \n",
       "2024-10-13       94.9      94.90                0   \n",
       "2024-10-13      109.0      -1.00                0   \n",
       "2024-10-13       89.9      -1.00                0   \n",
       "2024-10-13       76.9      71.99                0   \n",
       "2024-10-13       14.5      -1.00                0   \n",
       "\n",
       "                                                    site_link  category_id  \\\n",
       "date                                                                         \n",
       "2019-01-31  https://www.vprok.ru/product/domik-v-derevne-d...           10   \n",
       "2019-01-31  https://www.vprok.ru/product/agroperspektiva-t...           15   \n",
       "2019-01-31  https://www.vprok.ru/product/ogurtsy-dlinnye-1...           26   \n",
       "2019-01-31  https://www.vprok.ru/product/sarafanovo-sarafa...           10   \n",
       "2019-01-31  https://www.vprok.ru/product/ogurtsy-fasovanny...           26   \n",
       "...                                                       ...          ...   \n",
       "2024-10-13  https://www.vprok.ru/product/domik-v-derevne-s...           11   \n",
       "2024-10-13  https://www.vprok.ru/product/prostokvashino-pr...           11   \n",
       "2024-10-13  https://www.vprok.ru/product/rostagroeksport-r...           11   \n",
       "2024-10-13  https://www.vprok.ru/product/pyshechka-pyshech...           16   \n",
       "2024-10-13  https://www.vprok.ru/product/tender-sol-krupna...           32   \n",
       "\n",
       "            cnt_products  median_price  price_ratio is_future_change  \\\n",
       "date                                                                   \n",
       "2019-01-31             5         115.0     0.633913            False   \n",
       "2019-01-31             3          60.9     0.802956            False   \n",
       "2019-01-31             4         159.0     0.439623            False   \n",
       "2019-01-31             5         115.0     0.555652            False   \n",
       "2019-01-31             4         159.0     0.874214            False   \n",
       "...                  ...           ...          ...              ...   \n",
       "2024-10-13             7         109.0     0.870642              NaN   \n",
       "2024-10-13             7         109.0     1.000000              NaN   \n",
       "2024-10-13             7         109.0     0.824771              NaN   \n",
       "2024-10-13             7          81.9     0.938950              NaN   \n",
       "2024-10-13            10          69.5     0.208633              NaN   \n",
       "\n",
       "                                                    cat_title  \\\n",
       "date                                                            \n",
       "2019-01-31  Молоко питьевое цельное пастеризованное 2,5-3,...   \n",
       "2019-01-31                                        Сахар-песок   \n",
       "2019-01-31                                      Огурцы свежие   \n",
       "2019-01-31  Молоко питьевое цельное пастеризованное 2,5-3,...   \n",
       "2019-01-31                                      Огурцы свежие   \n",
       "...                                                       ...   \n",
       "2024-10-13                                            Сметана   \n",
       "2024-10-13                                            Сметана   \n",
       "2024-10-13                                            Сметана   \n",
       "2024-10-13                                     Мука пшеничная   \n",
       "2024-10-13                            Соль поваренная пищевая   \n",
       "\n",
       "                              type_1                           type_2  \\\n",
       "date                                                                    \n",
       "2019-01-31  Молочные продукты и яйца  Продукты недлительного хранения   \n",
       "2019-01-31               Сахар-песок    Продукты длительного хранения   \n",
       "2019-01-31                     Овощи  Продукты недлительного хранения   \n",
       "2019-01-31  Молочные продукты и яйца  Продукты недлительного хранения   \n",
       "2019-01-31                     Овощи  Продукты недлительного хранения   \n",
       "...                              ...                              ...   \n",
       "2024-10-13  Молочные продукты и яйца  Продукты недлительного хранения   \n",
       "2024-10-13  Молочные продукты и яйца  Продукты недлительного хранения   \n",
       "2024-10-13  Молочные продукты и яйца  Продукты недлительного хранения   \n",
       "2024-10-13            Мучные изделия    Продукты длительного хранения   \n",
       "2024-10-13              Чай и специи    Продукты длительного хранения   \n",
       "\n",
       "                             type_3  \n",
       "date                                 \n",
       "2019-01-31  Необработанные продукты  \n",
       "2019-01-31    Обработанные продукты  \n",
       "2019-01-31  Необработанные продукты  \n",
       "2019-01-31  Необработанные продукты  \n",
       "2019-01-31  Необработанные продукты  \n",
       "...                             ...  \n",
       "2024-10-13    Обработанные продукты  \n",
       "2024-10-13    Обработанные продукты  \n",
       "2024-10-13    Обработанные продукты  \n",
       "2024-10-13    Обработанные продукты  \n",
       "2024-10-13    Обработанные продукты  \n",
       "\n",
       "[209197 rows x 13 columns]"
      ]
     },
     "execution_count": 120,
     "metadata": {},
     "output_type": "execute_result"
    }
   ],
   "source": [
    "raw_df"
   ]
  },
  {
   "cell_type": "code",
   "execution_count": 42,
   "metadata": {},
   "outputs": [],
   "source": [
    "# raw_df['price_pct_change'] = raw_df.groupby('site_link')['price_new'].transform(lambda x: x.pct_change())\n",
    "# raw_df[raw_df.date.between('2022-01-01', '2022-12-31')].groupby('date').apply(lambda x: x[x.price_pct_change>0].is_price_change.sum()/x.is_price_change.count()).rolling(15).mean().plot()\n",
    "# raw_df[raw_df.date.between('2021-01-01', '2021-12-31')].groupby('date').apply(lambda x: x[x.price_pct_change>0].is_price_change.sum()/x.is_price_change.count()).rolling(15).mean().plot()\n",
    "# raw_df[raw_df.date.between('2020-01-01', '2020-12-31')].groupby('date').apply(lambda x: x[x.price_pct_change>0].is_price_change.sum()/x.is_price_change.count()).rolling(15).mean().plot()\n"
   ]
  },
  {
   "cell_type": "code",
   "execution_count": null,
   "metadata": {},
   "outputs": [],
   "source": []
  }
 ],
 "metadata": {
  "kernelspec": {
   "display_name": "venv",
   "language": "python",
   "name": "python3"
  },
  "language_info": {
   "codemirror_mode": {
    "name": "ipython",
    "version": 3
   },
   "file_extension": ".py",
   "mimetype": "text/x-python",
   "name": "python",
   "nbconvert_exporter": "python",
   "pygments_lexer": "ipython3",
   "version": "3.12.2"
  }
 },
 "nbformat": 4,
 "nbformat_minor": 2
}
